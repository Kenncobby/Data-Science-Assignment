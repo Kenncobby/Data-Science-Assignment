{
 "cells": [
  {
   "cell_type": "markdown",
   "id": "2236b228-01ac-4d95-b01e-abc64aef9477",
   "metadata": {
    "tags": []
   },
   "source": [
    "# My Python Notebook on Watson Studio\n",
    "## Kenneth Appiah\n",
    "### 100% Human"
   ]
  },
  {
   "cell_type": "markdown",
   "id": "45539177-c7d8-4381-9a07-504a48c9e91d",
   "metadata": {},
   "source": [
    "#### *I am intersted in data science because I love to gain insights from data*"
   ]
  },
  {
   "cell_type": "markdown",
   "id": "dc384ad9-c507-4908-a16b-90999f24fe26",
   "metadata": {},
   "source": [
    "## The following code tests the Gaus Formular"
   ]
  },
  {
   "cell_type": "code",
   "execution_count": 3,
   "id": "a5e7115a-4f00-4522-a454-47d2c2ba5d5b",
   "metadata": {},
   "outputs": [
    {
     "data": {
      "text/plain": [
       "True"
      ]
     },
     "execution_count": 3,
     "metadata": {},
     "output_type": "execute_result"
    }
   ],
   "source": [
    "def gauss(n):\n",
    "    return (n*(n+1))/2\n",
    "\n",
    "gauss(100) == sum(range(101))"
   ]
  },
  {
   "cell_type": "code",
   "execution_count": null,
   "id": "c943b07e-9ff3-4364-a396-9767ed03ac80",
   "metadata": {},
   "outputs": [],
   "source": []
  }
 ],
 "metadata": {
  "kernelspec": {
   "display_name": "Python 3 (ipykernel)",
   "language": "python",
   "name": "python3"
  },
  "language_info": {
   "codemirror_mode": {
    "name": "ipython",
    "version": 3
   },
   "file_extension": ".py",
   "mimetype": "text/x-python",
   "name": "python",
   "nbconvert_exporter": "python",
   "pygments_lexer": "ipython3",
   "version": "3.10.4"
  }
 },
 "nbformat": 4,
 "nbformat_minor": 5
}
